{
 "cells": [
  {
   "cell_type": "code",
   "execution_count": null,
   "metadata": {
    "_cell_guid": "b1076dfc-b9ad-4769-8c92-a6c4dae69d19",
    "_uuid": "8f2839f25d086af736a60e9eeb907d3b93b6e0e5",
    "trusted": true
   },
   "outputs": [],
   "source": [
    "!git clone #https://token@github.com/3NDQ/dsc_uit.git -b branch_name"
   ]
  },
  {
   "cell_type": "code",
   "execution_count": null,
   "metadata": {
    "trusted": true
   },
   "outputs": [],
   "source": [
    "import os\n",
    "os.chdir('/kaggle/working/dsc_uit')"
   ]
  },
  {
   "cell_type": "code",
   "execution_count": null,
   "metadata": {
    "trusted": true
   },
   "outputs": [],
   "source": [
    "# import numpy as np\n",
    "# epochs = np.arange(1, 20, 1)\n",
    "# for epoch in epochs:\n",
    "#     file_path = f'/kaggle/working/dsc_uit/model_epoch_{epoch}.pth'\n",
    "#     if os.path.exists(file_path):\n",
    "#         os.remove(file_path)\n",
    "#         print(f\"Deleted: {file_path}\")\n",
    "#     else:\n",
    "#         print(f\"File not found: {file_path}\")"
   ]
  },
  {
   "cell_type": "code",
   "execution_count": null,
   "metadata": {
    "trusted": true
   },
   "outputs": [],
   "source": [
    "!pip install flash_attn"
   ]
  },
  {
   "cell_type": "code",
   "execution_count": null,
   "metadata": {
    "trusted": true
   },
   "outputs": [],
   "source": [
    "# !python extract_features.py \\\n",
    "#     --data_path \"/kaggle/input/vimmsd/vimmsd-train.json\" \\\n",
    "#     --image_folder \"/kaggle/input/vimmsd/train-images\" \\\n",
    "#     --ocr_cache_path \"/kaggle/input/ocr-cache/paddle_train_ocr_cache.json\" \\\n",
    "#     --image_model_name \"google/vit-base-patch16-224\" \\\n",
    "#     --text_model_name \"jinaai/jina-embeddings-v3\"\\\n",
    "#     --output_dir \"train_features\" \\\n",
    "#     --mode \"train\""
   ]
  },
  {
   "cell_type": "code",
   "execution_count": null,
   "metadata": {
    "trusted": true
   },
   "outputs": [],
   "source": [
    "!CUDA_LAUNCH_BLOCKING=1 python main.py \\\n",
    "    --mode train \\\n",
    "    --train_features_dir \"/kaggle/input/features-vit-jina-embedding-v3/train_features\" \\\n",
    "    --batch_size 32 \\\n",
    "    --num_workers 4 \\\n",
    "    --fusion_method \"concat\" \\\n",
    "    --num_epochs 35 \\\n",
    "    --patience 10 \\\n",
    "    --learning_rate 3e-5 \\\n",
    "    --val_size 0.2 \\\n",
    "    --random_state 42 \\\n",
    "    --loss_type 'focal' \\\n",
    "    --label_smoothing 0"
   ]
  },
  {
   "cell_type": "code",
   "execution_count": null,
   "metadata": {
    "trusted": true
   },
   "outputs": [],
   "source": [
    "# !python extract_features.py \\\n",
    "#     --data_path \"/kaggle/input/vimmsd/vimmsd-private-test.json\" \\\n",
    "#     --image_folder \"/kaggle/input/vimmsd/test-images\" \\\n",
    "#     --ocr_cache_path \"/kaggle/input/ocr-cache/paddle_test_ocr_cache.json\" \\\n",
    "#     --image_model_name \"google/vit-base-patch16-224\" \\\n",
    "#     --text_model_name \"jinaai/jina-embeddings-v3\" \\\n",
    "#     --output_dir \"test_features\" \\\n",
    "#     --mode \"test\""
   ]
  },
  {
   "cell_type": "code",
   "execution_count": null,
   "metadata": {
    "trusted": true
   },
   "outputs": [],
   "source": [
    "# !python main.py \\\n",
    "#     --mode test \\\n",
    "#     --test_features_dir \"/kaggle/input/features-vit-jina-embedding-v3/test_features\" \\\n",
    "#     --batch_size 16 \\\n",
    "#     --num_workers 4 \\\n",
    "#     --model_paths \"model_epoch_26.pth\" \"model_epoch_29.pth\" \"model_epoch_3.pth\"\\\n",
    "#     --fusion_method \"concat\""
   ]
  }
 ],
 "metadata": {
  "kaggle": {
   "accelerator": "gpu",
   "dataSources": [
    {
     "datasetId": 6496410,
     "sourceId": 10492272,
     "sourceType": "datasetVersion"
    },
    {
     "datasetId": 6498464,
     "sourceId": 10495758,
     "sourceType": "datasetVersion"
    },
    {
     "datasetId": 6508118,
     "sourceId": 10514144,
     "sourceType": "datasetVersion"
    },
    {
     "datasetId": 6507927,
     "sourceId": 10513800,
     "sourceType": "datasetVersion"
    }
   ],
   "dockerImageVersionId": 30840,
   "isGpuEnabled": true,
   "isInternetEnabled": true,
   "language": "python",
   "sourceType": "notebook"
  },
  "kernelspec": {
   "display_name": "Python 3",
   "language": "python",
   "name": "python3"
  },
  "language_info": {
   "codemirror_mode": {
    "name": "ipython",
    "version": 3
   },
   "file_extension": ".py",
   "mimetype": "text/x-python",
   "name": "python",
   "nbconvert_exporter": "python",
   "pygments_lexer": "ipython3",
   "version": "3.10.12"
  }
 },
 "nbformat": 4,
 "nbformat_minor": 4
}
